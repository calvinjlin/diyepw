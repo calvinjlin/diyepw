{
 "cells": [
  {
   "cell_type": "code",
   "execution_count": 1,
   "metadata": {},
   "outputs": [
    {
     "name": "stdout",
     "output_type": "stream",
     "text": [
      "Requirement already satisfied: diyepw in c:\\users\\calvinlin\\miniforge3\\envs\\diyepw\\lib\\site-packages (1.2.3)\n",
      "Requirement already satisfied: xarray~=0.19.0 in c:\\users\\calvinlin\\miniforge3\\envs\\diyepw\\lib\\site-packages (from diyepw) (0.19.0)\n",
      "Requirement already satisfied: pandas~=1.3.2 in c:\\users\\calvinlin\\miniforge3\\envs\\diyepw\\lib\\site-packages (from diyepw) (1.3.5)\n",
      "Requirement already satisfied: pvlib~=0.8.1 in c:\\users\\calvinlin\\miniforge3\\envs\\diyepw\\lib\\site-packages (from diyepw) (0.8.1)\n",
      "Requirement already satisfied: numpy~=1.21.2 in c:\\users\\calvinlin\\miniforge3\\envs\\diyepw\\lib\\site-packages (from diyepw) (1.21.6)\n",
      "Requirement already satisfied: click~=8.0.1 in c:\\users\\calvinlin\\miniforge3\\envs\\diyepw\\lib\\site-packages (from diyepw) (8.0.4)\n",
      "Requirement already satisfied: colorama in c:\\users\\calvinlin\\miniforge3\\envs\\diyepw\\lib\\site-packages (from click~=8.0.1->diyepw) (0.4.6)\n",
      "Requirement already satisfied: python-dateutil>=2.7.3 in c:\\users\\calvinlin\\miniforge3\\envs\\diyepw\\lib\\site-packages (from pandas~=1.3.2->diyepw) (2.8.2)\n",
      "Requirement already satisfied: pytz>=2017.3 in c:\\users\\calvinlin\\miniforge3\\envs\\diyepw\\lib\\site-packages (from pandas~=1.3.2->diyepw) (2022.6)\n",
      "Requirement already satisfied: requests in c:\\users\\calvinlin\\miniforge3\\envs\\diyepw\\lib\\site-packages (from pvlib~=0.8.1->diyepw) (2.28.1)\n",
      "Requirement already satisfied: scipy>=1.2.0 in c:\\users\\calvinlin\\miniforge3\\envs\\diyepw\\lib\\site-packages (from pvlib~=0.8.1->diyepw) (1.9.3)\n",
      "Requirement already satisfied: setuptools>=40.4 in c:\\users\\calvinlin\\miniforge3\\envs\\diyepw\\lib\\site-packages (from xarray~=0.19.0->diyepw) (65.5.1)\n",
      "Requirement already satisfied: six>=1.5 in c:\\users\\calvinlin\\miniforge3\\envs\\diyepw\\lib\\site-packages (from python-dateutil>=2.7.3->pandas~=1.3.2->diyepw) (1.16.0)\n",
      "Requirement already satisfied: urllib3<1.27,>=1.21.1 in c:\\users\\calvinlin\\miniforge3\\envs\\diyepw\\lib\\site-packages (from requests->pvlib~=0.8.1->diyepw) (1.26.13)\n",
      "Requirement already satisfied: idna<4,>=2.5 in c:\\users\\calvinlin\\miniforge3\\envs\\diyepw\\lib\\site-packages (from requests->pvlib~=0.8.1->diyepw) (3.4)\n",
      "Requirement already satisfied: charset-normalizer<3,>=2 in c:\\users\\calvinlin\\miniforge3\\envs\\diyepw\\lib\\site-packages (from requests->pvlib~=0.8.1->diyepw) (2.1.1)\n",
      "Requirement already satisfied: certifi>=2017.4.17 in c:\\users\\calvinlin\\miniforge3\\envs\\diyepw\\lib\\site-packages (from requests->pvlib~=0.8.1->diyepw) (2022.9.24)\n"
     ]
    }
   ],
   "source": [
    "# Run this command to install diyepw\n",
    "# https://joss.theoj.org/papers/10.21105/joss.03313\n",
    "# https://www.ncei.noaa.gov/pub/data/uscrn/products/hourly02/headers.txt\n",
    "# https://www.ncei.noaa.gov/pub/data/uscrn/products/hourly02/2021/CRNH0203-2021-TX_Austin_33_NW.txt\n",
    "!pip install diyepw"
   ]
  },
  {
   "cell_type": "code",
   "execution_count": null,
   "metadata": {},
   "outputs": [],
   "source": []
  },
  {
   "cell_type": "code",
   "execution_count": 1,
   "metadata": {},
   "outputs": [
    {
     "name": "stdout",
     "output_type": "stream",
     "text": [
      "2022-12-02 01:29:54,079 Creating AMY EPW for year 2021 and WMO 722540...\n",
      "2022-12-02 01:29:54,081 No amy_epw_dir was specified - generated AMY EPWs will be stored in C:\\Users\\CalvinLin\\AppData\\Local\\Temp\\tmpenmm_7_s\n",
      "2022-12-02 01:29:54,082 No amy_dir was specified - downloaded AMY files will be stored in the default location at c:\\Users\\CalvinLin\\My Files\\GitHub\\diyepw\\diyepw\\data\\noaa_isd_lite_files\n",
      "2022-12-02 01:29:54,377 TMY EPW file (c:\\Users\\CalvinLin\\My Files\\GitHub\\diyepw\\diyepw\\data\\tmy_epw_files\\USA_TX_Austin-Bergstrom.Intl.AP.722540_TMYx.epw) already exists, won't download again.\n"
     ]
    },
    {
     "data": {
      "text/plain": [
       "{2021: {722540: ['C:\\\\Users\\\\CalvinLin\\\\AppData\\\\Local\\\\Temp\\\\tmpenmm_7_s\\\\USA_TX_Austin-Bergstrom.Intl.AP.722540_AMY_2021.epw']}}"
      ]
     },
     "execution_count": 1,
     "metadata": {},
     "output_type": "execute_result"
    }
   ],
   "source": [
    "import diyepw\n",
    "diyepw.create_amy_epw_files_for_years_and_wmos(\n",
    "    [2021],\n",
    "    [722540], \n",
    "    max_records_to_interpolate=4, \n",
    "    max_records_to_impute=4, \n",
    "    max_missing_amy_rows=4, \n",
    "    allow_downloads=True\n",
    ")"
   ]
  },
  {
   "cell_type": "code",
   "execution_count": 13,
   "metadata": {},
   "outputs": [
    {
     "data": {
      "text/plain": [
       "'1\\r\\n2\\r\\n3'"
      ]
     },
     "execution_count": 13,
     "metadata": {},
     "output_type": "execute_result"
    }
   ],
   "source": [
    "import os\n",
    "os.linesep.join(['1','2','3'])"
   ]
  },
  {
   "cell_type": "code",
   "execution_count": 4,
   "metadata": {},
   "outputs": [
    {
     "data": {
      "text/plain": [
       "int"
      ]
     },
     "execution_count": 4,
     "metadata": {},
     "output_type": "execute_result"
    }
   ],
   "source": [
    "type(int(6))"
   ]
  },
  {
   "cell_type": "code",
   "execution_count": null,
   "metadata": {},
   "outputs": [],
   "source": [
    "!pip list "
   ]
  },
  {
   "cell_type": "code",
   "execution_count": 4,
   "metadata": {},
   "outputs": [
    {
     "data": {
      "text/plain": [
       "'1\\n2\\n3'"
      ]
     },
     "execution_count": 4,
     "metadata": {},
     "output_type": "execute_result"
    }
   ],
   "source": [
    "\"\\n\".join(['1','2','3'])"
   ]
  },
  {
   "cell_type": "code",
   "execution_count": 4,
   "metadata": {},
   "outputs": [
    {
     "data": {
      "text/plain": [
       "array([2.02100000e+03, 1.00000000e+00, 1.00000000e+00, 1.00000000e+00,\n",
       "       0.00000000e+00,            nan, 2.80000000e+00, 0.00000000e+00,\n",
       "       7.70000000e+01, 9.92334707e+04, 0.00000000e+00, 0.00000000e+00,\n",
       "       2.51000000e+02, 0.00000000e+00, 0.00000000e+00, 0.00000000e+00,\n",
       "       0.00000000e+00, 0.00000000e+00, 0.00000000e+00, 0.00000000e+00,\n",
       "       2.50000000e+02, 2.60000000e+00, 0.00000000e+00, 0.00000000e+00,\n",
       "       7.77700000e+02, 7.77770000e+04, 9.00000000e+00, 9.99999999e+08,\n",
       "       8.00000000e+00, 8.50000000e-02, 0.00000000e+00, 8.80000000e+01,\n",
       "       2.00000000e-01, 0.00000000e+00])"
      ]
     },
     "execution_count": 4,
     "metadata": {},
     "output_type": "execute_result"
    }
   ],
   "source": [
    "from io import StringIO\n",
    "import numpy as np\n",
    "s = StringIO('2021,1,1,1,0,?9?9?9?9E0?9?9?9?9?9?9?9?9?9?9?9*9?9*9*9*9*9,2.8,0.0,77,99233.47072512213,0,0,251,0,0,0,0,0,0,0,250.0,2.6,0,0,777.7,77777,9,999999999,8,0.085,0,88,0.2,0.0')\n",
    "np.genfromtxt(s, delimiter=\",\")"
   ]
  },
  {
   "cell_type": "code",
   "execution_count": null,
   "metadata": {},
   "outputs": [],
   "source": []
  }
 ],
 "metadata": {
  "kernelspec": {
   "display_name": "Python 3.10.8 ('diyepw')",
   "language": "python",
   "name": "python3"
  },
  "language_info": {
   "codemirror_mode": {
    "name": "ipython",
    "version": 3
   },
   "file_extension": ".py",
   "mimetype": "text/x-python",
   "name": "python",
   "nbconvert_exporter": "python",
   "pygments_lexer": "ipython3",
   "version": "3.10.8"
  },
  "orig_nbformat": 4,
  "vscode": {
   "interpreter": {
    "hash": "d3dd29597d43040d035540c4fd3e7773e0670d789567c4a8b30eb7457e85ec51"
   }
  }
 },
 "nbformat": 4,
 "nbformat_minor": 2
}
